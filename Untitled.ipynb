{
 "cells": [
  {
   "cell_type": "code",
   "execution_count": 1,
   "metadata": {},
   "outputs": [],
   "source": [
    "import pandas as pd\n",
    "import numpy as np"
   ]
  },
  {
   "cell_type": "markdown",
   "metadata": {},
   "source": [
    "1. 내용 : `head()`\n",
    "1. column : `columns`\n",
    "1. 행렬구조, data type, null data : `info()`\n",
    "   - 행렬구조 ONLY\n",
    "     - `shape`\n",
    "   - data type ONLY\n",
    "     - `dtypes`\n",
    "   - null data ONLY\n",
    "     - 열 단위 - `isnull().any()`\n",
    "     - df 단위 - `isnull().any().any()`\n",
    "1. 기술통계 : `describe()`"
   ]
  },
  {
   "cell_type": "code",
   "execution_count": 49,
   "metadata": {},
   "outputs": [],
   "source": [
    "train = pd.read_csv(\"asset_/train.csv\")\n",
    "test = pd.read_csv(\"asset_/test.csv\")\n",
    "key = pd.read_csv(\"asset_/key.csv\")\n",
    "weather = pd.read_csv(\"asset_/weather.csv\")\n",
    "sampleSubmission = pd.read_csv(\"asset_/sampleSubmission.csv\")"
   ]
  },
  {
   "cell_type": "code",
   "execution_count": 77,
   "metadata": {
    "collapsed": true
   },
   "outputs": [
    {
     "name": "stdout",
     "output_type": "stream",
     "text": [
      "Index(['date', 'store_nbr', 'item_nbr', 'units'], dtype='object')\n",
      "Index(['date', 'store_nbr', 'item_nbr'], dtype='object')\n",
      "Index(['store_nbr', 'station_nbr'], dtype='object')\n",
      "Index(['station_nbr', 'date', 'tmax', 'tmin', 'tavg', 'depart', 'dewpoint',\n",
      "       'wetbulb', 'heat', 'cool', 'sunrise', 'sunset', 'codesum', 'snowfall',\n",
      "       'preciptotal', 'stnpressure', 'sealevel', 'resultspeed', 'resultdir',\n",
      "       'avgspeed'],\n",
      "      dtype='object')\n",
      "Index(['id', 'units'], dtype='object')\n"
     ]
    }
   ],
   "source": [
    "print(train.columns) # date, store_nbr, item_nbr, units\n",
    "print(test.columns) # date, store_nbr, item_nbr\n",
    "print(key.columns) # store_nbr, item_nbr\n",
    "print(weather.columns)\n",
    "# station_nbr, date, tmax, tmin, tavg, depart, dewpoint, wetbulb, heat, cool, sunrise, sunset\n",
    "# codesum, snowfall, preciptotal, stnpressure, sealevel, resultspeed, resultdir, avgspeed\n",
    "print(sampleSubmission.columns) # 'id', 'units'"
   ]
  },
  {
   "cell_type": "markdown",
   "metadata": {},
   "source": [
    "### 1. train df, weather df EDA (w. describe, visualiztion)\n",
    ": 이를 통해 train과 weather을 merge하기 전, 각각 전처리를 수행한다"
   ]
  },
  {
   "cell_type": "markdown",
   "metadata": {},
   "source": [
    "#### 1.1 train df EDA\n",
    ": store마다 일자마다 판매한 item의 개수와 특징을 파악한다"
   ]
  },
  {
   "cell_type": "code",
   "execution_count": 79,
   "metadata": {},
   "outputs": [
    {
     "data": {
      "text/html": [
       "<div>\n",
       "<style scoped>\n",
       "    .dataframe tbody tr th:only-of-type {\n",
       "        vertical-align: middle;\n",
       "    }\n",
       "\n",
       "    .dataframe tbody tr th {\n",
       "        vertical-align: top;\n",
       "    }\n",
       "\n",
       "    .dataframe thead th {\n",
       "        text-align: right;\n",
       "    }\n",
       "</style>\n",
       "<table border=\"1\" class=\"dataframe\">\n",
       "  <thead>\n",
       "    <tr style=\"text-align: right;\">\n",
       "      <th></th>\n",
       "      <th>store_nbr</th>\n",
       "      <th>item_nbr</th>\n",
       "      <th>units</th>\n",
       "    </tr>\n",
       "  </thead>\n",
       "  <tbody>\n",
       "    <tr>\n",
       "      <th>count</th>\n",
       "      <td>4.617600e+06</td>\n",
       "      <td>4.617600e+06</td>\n",
       "      <td>4.617600e+06</td>\n",
       "    </tr>\n",
       "    <tr>\n",
       "      <th>mean</th>\n",
       "      <td>2.309108e+01</td>\n",
       "      <td>5.600000e+01</td>\n",
       "      <td>9.868756e-01</td>\n",
       "    </tr>\n",
       "    <tr>\n",
       "      <th>std</th>\n",
       "      <td>1.295281e+01</td>\n",
       "      <td>3.204164e+01</td>\n",
       "      <td>9.875798e+00</td>\n",
       "    </tr>\n",
       "    <tr>\n",
       "      <th>min</th>\n",
       "      <td>1.000000e+00</td>\n",
       "      <td>1.000000e+00</td>\n",
       "      <td>0.000000e+00</td>\n",
       "    </tr>\n",
       "    <tr>\n",
       "      <th>25%</th>\n",
       "      <td>1.200000e+01</td>\n",
       "      <td>2.800000e+01</td>\n",
       "      <td>0.000000e+00</td>\n",
       "    </tr>\n",
       "    <tr>\n",
       "      <th>50%</th>\n",
       "      <td>2.300000e+01</td>\n",
       "      <td>5.600000e+01</td>\n",
       "      <td>0.000000e+00</td>\n",
       "    </tr>\n",
       "    <tr>\n",
       "      <th>75%</th>\n",
       "      <td>3.400000e+01</td>\n",
       "      <td>8.400000e+01</td>\n",
       "      <td>0.000000e+00</td>\n",
       "    </tr>\n",
       "    <tr>\n",
       "      <th>max</th>\n",
       "      <td>4.500000e+01</td>\n",
       "      <td>1.110000e+02</td>\n",
       "      <td>5.568000e+03</td>\n",
       "    </tr>\n",
       "  </tbody>\n",
       "</table>\n",
       "</div>"
      ],
      "text/plain": [
       "          store_nbr      item_nbr         units\n",
       "count  4.617600e+06  4.617600e+06  4.617600e+06\n",
       "mean   2.309108e+01  5.600000e+01  9.868756e-01\n",
       "std    1.295281e+01  3.204164e+01  9.875798e+00\n",
       "min    1.000000e+00  1.000000e+00  0.000000e+00\n",
       "25%    1.200000e+01  2.800000e+01  0.000000e+00\n",
       "50%    2.300000e+01  5.600000e+01  0.000000e+00\n",
       "75%    3.400000e+01  8.400000e+01  0.000000e+00\n",
       "max    4.500000e+01  1.110000e+02  5.568000e+03"
      ]
     },
     "execution_count": 79,
     "metadata": {},
     "output_type": "execute_result"
    }
   ],
   "source": [
    "train.describe()"
   ]
  },
  {
   "cell_type": "code",
   "execution_count": null,
   "metadata": {},
   "outputs": [],
   "source": []
  },
  {
   "cell_type": "code",
   "execution_count": null,
   "metadata": {},
   "outputs": [],
   "source": []
  },
  {
   "cell_type": "code",
   "execution_count": null,
   "metadata": {},
   "outputs": [],
   "source": []
  },
  {
   "cell_type": "code",
   "execution_count": null,
   "metadata": {},
   "outputs": [],
   "source": []
  },
  {
   "cell_type": "code",
   "execution_count": null,
   "metadata": {},
   "outputs": [],
   "source": []
  },
  {
   "cell_type": "code",
   "execution_count": null,
   "metadata": {},
   "outputs": [],
   "source": []
  },
  {
   "cell_type": "code",
   "execution_count": null,
   "metadata": {},
   "outputs": [],
   "source": []
  },
  {
   "cell_type": "code",
   "execution_count": null,
   "metadata": {},
   "outputs": [],
   "source": []
  },
  {
   "cell_type": "code",
   "execution_count": null,
   "metadata": {},
   "outputs": [],
   "source": []
  },
  {
   "cell_type": "code",
   "execution_count": null,
   "metadata": {},
   "outputs": [],
   "source": []
  },
  {
   "cell_type": "code",
   "execution_count": null,
   "metadata": {},
   "outputs": [],
   "source": []
  },
  {
   "cell_type": "code",
   "execution_count": null,
   "metadata": {},
   "outputs": [],
   "source": []
  },
  {
   "cell_type": "code",
   "execution_count": null,
   "metadata": {},
   "outputs": [],
   "source": []
  },
  {
   "cell_type": "code",
   "execution_count": null,
   "metadata": {},
   "outputs": [],
   "source": []
  },
  {
   "cell_type": "code",
   "execution_count": null,
   "metadata": {},
   "outputs": [],
   "source": []
  },
  {
   "cell_type": "code",
   "execution_count": null,
   "metadata": {},
   "outputs": [],
   "source": []
  }
 ],
 "metadata": {
  "kernelspec": {
   "display_name": "Python 3",
   "language": "python",
   "name": "python3"
  },
  "language_info": {
   "codemirror_mode": {
    "name": "ipython",
    "version": 3
   },
   "file_extension": ".py",
   "mimetype": "text/x-python",
   "name": "python",
   "nbconvert_exporter": "python",
   "pygments_lexer": "ipython3",
   "version": "3.7.2"
  }
 },
 "nbformat": 4,
 "nbformat_minor": 2
}
