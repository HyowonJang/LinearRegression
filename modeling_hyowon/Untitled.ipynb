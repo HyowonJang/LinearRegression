{
 "cells": [
  {
   "cell_type": "code",
   "execution_count": 1,
   "metadata": {},
   "outputs": [
    {
     "name": "stdout",
     "output_type": "stream",
     "text": [
      "Train data :  (4617600, 4)\n",
      "Test  data :  (526917, 3)\n",
      "weather  data :  (20517, 20)\n",
      "key  data :  (45, 2)\n",
      "submission  data :  (526917, 2)\n"
     ]
    }
   ],
   "source": [
    "# Import libraries\n",
    "'''\n",
    "import numpy as np\n",
    "import pandas as pd\n",
    "import scipy as sp\n",
    "import matplotlib.pyplot as plt\n",
    "import seaborn as sns\n",
    "'''\n",
    "\n",
    "# Pretty display for notebooks\n",
    "'''\n",
    "%matplotlib inline\n",
    "'''\n",
    "\n",
    "# Allows the use of display() for DataFrames\n",
    "from IPython.display import display \n",
    "\n",
    "# Ignore the warnings\n",
    "import warnings\n",
    "warnings.filterwarnings('ignore')\n",
    "\n",
    "# Load the dataset\n",
    "train = pd.read_csv(\"../asset/train.csv\")\n",
    "test = pd.read_csv(\"../asset/test.csv\")\n",
    "weather = pd.read_csv(\"../asset/weather.csv\")\n",
    "key = pd.read_csv(\"../asset/key.csv\")\n",
    "submission_example = pd.read_csv(\"../asset/sampleSubmission.csv\")\n",
    "\n",
    "# Success - Display the first record\n",
    "print(\"Train data : \", train.shape)\n",
    "print(\"Test  data : \", test.shape)\n",
    "print(\"weather  data : \", weather.shape)\n",
    "print(\"key  data : \", key.shape)\n",
    "print(\"submission  data : \", submission_example.shape)"
   ]
  }
 ],
 "metadata": {
  "kernelspec": {
   "display_name": "Python 3",
   "language": "python",
   "name": "python3"
  },
  "language_info": {
   "codemirror_mode": {
    "name": "ipython",
    "version": 3
   },
   "file_extension": ".py",
   "mimetype": "text/x-python",
   "name": "python",
   "nbconvert_exporter": "python",
   "pygments_lexer": "ipython3",
   "version": "3.6.4"
  }
 },
 "nbformat": 4,
 "nbformat_minor": 2
}
