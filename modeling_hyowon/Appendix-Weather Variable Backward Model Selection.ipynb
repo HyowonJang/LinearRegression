{
 "cells": [
  {
   "cell_type": "markdown",
   "metadata": {},
   "source": [
    "### Weather Variable OLS - Backward Model Selection"
   ]
  },
  {
   "cell_type": "code",
   "execution_count": 1,
   "metadata": {},
   "outputs": [],
   "source": [
    "import pandas as pd \n",
    "import numpy as np\n",
    "df = pd.read_csv(\"../modelling_joseph/total.csv\")\n",
    "df = df.drop(['Unnamed: 0','date2'], axis =1)"
   ]
  },
  {
   "cell_type": "code",
   "execution_count": 2,
   "metadata": {},
   "outputs": [
    {
     "data": {
      "text/html": [
       "<div>\n",
       "<style scoped>\n",
       "    .dataframe tbody tr th:only-of-type {\n",
       "        vertical-align: middle;\n",
       "    }\n",
       "\n",
       "    .dataframe tbody tr th {\n",
       "        vertical-align: top;\n",
       "    }\n",
       "\n",
       "    .dataframe thead th {\n",
       "        text-align: right;\n",
       "    }\n",
       "</style>\n",
       "<table border=\"1\" class=\"dataframe\">\n",
       "  <thead>\n",
       "    <tr style=\"text-align: right;\">\n",
       "      <th></th>\n",
       "      <th>VIF Factor</th>\n",
       "      <th>Features</th>\n",
       "    </tr>\n",
       "  </thead>\n",
       "  <tbody>\n",
       "    <tr>\n",
       "      <th>0</th>\n",
       "      <td>1.080340</td>\n",
       "      <td>resultdir</td>\n",
       "    </tr>\n",
       "    <tr>\n",
       "      <th>1</th>\n",
       "      <td>1.097774</td>\n",
       "      <td>preciptotal</td>\n",
       "    </tr>\n",
       "    <tr>\n",
       "      <th>2</th>\n",
       "      <td>1.331418</td>\n",
       "      <td>depart</td>\n",
       "    </tr>\n",
       "    <tr>\n",
       "      <th>3</th>\n",
       "      <td>1.643640</td>\n",
       "      <td>stnpressure</td>\n",
       "    </tr>\n",
       "    <tr>\n",
       "      <th>4</th>\n",
       "      <td>6.522967</td>\n",
       "      <td>resultspeed</td>\n",
       "    </tr>\n",
       "    <tr>\n",
       "      <th>5</th>\n",
       "      <td>6.614456</td>\n",
       "      <td>avgspeed</td>\n",
       "    </tr>\n",
       "    <tr>\n",
       "      <th>6</th>\n",
       "      <td>10.230785</td>\n",
       "      <td>cool</td>\n",
       "    </tr>\n",
       "    <tr>\n",
       "      <th>7</th>\n",
       "      <td>28.973033</td>\n",
       "      <td>heat</td>\n",
       "    </tr>\n",
       "    <tr>\n",
       "      <th>8</th>\n",
       "      <td>43.014399</td>\n",
       "      <td>dewpoint</td>\n",
       "    </tr>\n",
       "    <tr>\n",
       "      <th>9</th>\n",
       "      <td>136.697520</td>\n",
       "      <td>wetbulb</td>\n",
       "    </tr>\n",
       "    <tr>\n",
       "      <th>10</th>\n",
       "      <td>1485.254133</td>\n",
       "      <td>tmin</td>\n",
       "    </tr>\n",
       "    <tr>\n",
       "      <th>11</th>\n",
       "      <td>1516.320393</td>\n",
       "      <td>tmax</td>\n",
       "    </tr>\n",
       "    <tr>\n",
       "      <th>12</th>\n",
       "      <td>63090.778194</td>\n",
       "      <td>tavg</td>\n",
       "    </tr>\n",
       "  </tbody>\n",
       "</table>\n",
       "</div>"
      ],
      "text/plain": [
       "      VIF Factor     Features\n",
       "0       1.080340    resultdir\n",
       "1       1.097774  preciptotal\n",
       "2       1.331418       depart\n",
       "3       1.643640  stnpressure\n",
       "4       6.522967  resultspeed\n",
       "5       6.614456     avgspeed\n",
       "6      10.230785         cool\n",
       "7      28.973033         heat\n",
       "8      43.014399     dewpoint\n",
       "9     136.697520      wetbulb\n",
       "10   1485.254133         tmin\n",
       "11   1516.320393         tmax\n",
       "12  63090.778194         tavg"
      ]
     },
     "execution_count": 2,
     "metadata": {},
     "output_type": "execute_result"
    }
   ],
   "source": [
    "# weather 변수끼리의 상관관계를 보자\n",
    "# vif가 가장 높은 tavg, tmax 를 먼저 제거\n",
    "from statsmodels.stats.outliers_influence import variance_inflation_factor as vifval\n",
    "df2 = df[['tmax' , 'tmin' , 'tavg' , 'depart' , 'dewpoint' , 'wetbulb' , 'heat' , 'cool' , 'preciptotal' , 'stnpressure' , 'resultspeed' , 'resultdir' , 'avgspeed']]\n",
    "vif = pd.DataFrame()\n",
    "vif['VIF Factor'] = [vifval(df2.values , i) for i in range(df2.shape[1])]\n",
    "vif['Features'] = df2.columns\n",
    "vif.sort_values('VIF Factor').reset_index(drop = True)"
   ]
  },
  {
   "cell_type": "code",
   "execution_count": 3,
   "metadata": {},
   "outputs": [
    {
     "data": {
      "text/html": [
       "<div>\n",
       "<style scoped>\n",
       "    .dataframe tbody tr th:only-of-type {\n",
       "        vertical-align: middle;\n",
       "    }\n",
       "\n",
       "    .dataframe tbody tr th {\n",
       "        vertical-align: top;\n",
       "    }\n",
       "\n",
       "    .dataframe thead th {\n",
       "        text-align: right;\n",
       "    }\n",
       "</style>\n",
       "<table border=\"1\" class=\"dataframe\">\n",
       "  <thead>\n",
       "    <tr style=\"text-align: right;\">\n",
       "      <th></th>\n",
       "      <th>VIF Factor</th>\n",
       "      <th>Features</th>\n",
       "    </tr>\n",
       "  </thead>\n",
       "  <tbody>\n",
       "    <tr>\n",
       "      <th>0</th>\n",
       "      <td>1.167425</td>\n",
       "      <td>preciptotal</td>\n",
       "    </tr>\n",
       "    <tr>\n",
       "      <th>1</th>\n",
       "      <td>1.314424</td>\n",
       "      <td>depart</td>\n",
       "    </tr>\n",
       "    <tr>\n",
       "      <th>2</th>\n",
       "      <td>5.009182</td>\n",
       "      <td>resultdir</td>\n",
       "    </tr>\n",
       "    <tr>\n",
       "      <th>3</th>\n",
       "      <td>8.324444</td>\n",
       "      <td>cool</td>\n",
       "    </tr>\n",
       "    <tr>\n",
       "      <th>4</th>\n",
       "      <td>19.069026</td>\n",
       "      <td>resultspeed</td>\n",
       "    </tr>\n",
       "    <tr>\n",
       "      <th>5</th>\n",
       "      <td>24.016466</td>\n",
       "      <td>heat</td>\n",
       "    </tr>\n",
       "    <tr>\n",
       "      <th>6</th>\n",
       "      <td>31.688799</td>\n",
       "      <td>avgspeed</td>\n",
       "    </tr>\n",
       "    <tr>\n",
       "      <th>7</th>\n",
       "      <td>129.008324</td>\n",
       "      <td>dewpoint</td>\n",
       "    </tr>\n",
       "    <tr>\n",
       "      <th>8</th>\n",
       "      <td>234.507168</td>\n",
       "      <td>tmin</td>\n",
       "    </tr>\n",
       "    <tr>\n",
       "      <th>9</th>\n",
       "      <td>301.789496</td>\n",
       "      <td>stnpressure</td>\n",
       "    </tr>\n",
       "    <tr>\n",
       "      <th>10</th>\n",
       "      <td>658.654471</td>\n",
       "      <td>wetbulb</td>\n",
       "    </tr>\n",
       "  </tbody>\n",
       "</table>\n",
       "</div>"
      ],
      "text/plain": [
       "    VIF Factor     Features\n",
       "0     1.167425  preciptotal\n",
       "1     1.314424       depart\n",
       "2     5.009182    resultdir\n",
       "3     8.324444         cool\n",
       "4    19.069026  resultspeed\n",
       "5    24.016466         heat\n",
       "6    31.688799     avgspeed\n",
       "7   129.008324     dewpoint\n",
       "8   234.507168         tmin\n",
       "9   301.789496  stnpressure\n",
       "10  658.654471      wetbulb"
      ]
     },
     "execution_count": 3,
     "metadata": {},
     "output_type": "execute_result"
    }
   ],
   "source": [
    "# vif 값이 높은 wetbulb, stnpressure 제거해서 다시 진행해보자\n",
    "df3 = df2.drop(['tmax' , 'tavg'], axis = 1)\n",
    "vif = pd.DataFrame()\n",
    "vif['VIF Factor'] = [vifval(df3.values , i) for i in range(df3.shape[1])]\n",
    "vif['Features'] = df3.columns\n",
    "vif.sort_values('VIF Factor').reset_index(drop = True)"
   ]
  },
  {
   "cell_type": "code",
   "execution_count": 4,
   "metadata": {},
   "outputs": [
    {
     "data": {
      "text/html": [
       "<div>\n",
       "<style scoped>\n",
       "    .dataframe tbody tr th:only-of-type {\n",
       "        vertical-align: middle;\n",
       "    }\n",
       "\n",
       "    .dataframe tbody tr th {\n",
       "        vertical-align: top;\n",
       "    }\n",
       "\n",
       "    .dataframe thead th {\n",
       "        text-align: right;\n",
       "    }\n",
       "</style>\n",
       "<table border=\"1\" class=\"dataframe\">\n",
       "  <thead>\n",
       "    <tr style=\"text-align: right;\">\n",
       "      <th></th>\n",
       "      <th>VIF Factor</th>\n",
       "      <th>Features</th>\n",
       "    </tr>\n",
       "  </thead>\n",
       "  <tbody>\n",
       "    <tr>\n",
       "      <th>0</th>\n",
       "      <td>1.134093</td>\n",
       "      <td>preciptotal</td>\n",
       "    </tr>\n",
       "    <tr>\n",
       "      <th>1</th>\n",
       "      <td>1.305491</td>\n",
       "      <td>depart</td>\n",
       "    </tr>\n",
       "    <tr>\n",
       "      <th>2</th>\n",
       "      <td>2.748661</td>\n",
       "      <td>heat</td>\n",
       "    </tr>\n",
       "    <tr>\n",
       "      <th>3</th>\n",
       "      <td>3.242068</td>\n",
       "      <td>cool</td>\n",
       "    </tr>\n",
       "    <tr>\n",
       "      <th>4</th>\n",
       "      <td>4.820396</td>\n",
       "      <td>resultdir</td>\n",
       "    </tr>\n",
       "    <tr>\n",
       "      <th>5</th>\n",
       "      <td>17.202854</td>\n",
       "      <td>resultspeed</td>\n",
       "    </tr>\n",
       "    <tr>\n",
       "      <th>6</th>\n",
       "      <td>28.971262</td>\n",
       "      <td>avgspeed</td>\n",
       "    </tr>\n",
       "    <tr>\n",
       "      <th>7</th>\n",
       "      <td>61.384575</td>\n",
       "      <td>dewpoint</td>\n",
       "    </tr>\n",
       "    <tr>\n",
       "      <th>8</th>\n",
       "      <td>85.207687</td>\n",
       "      <td>tmin</td>\n",
       "    </tr>\n",
       "  </tbody>\n",
       "</table>\n",
       "</div>"
      ],
      "text/plain": [
       "   VIF Factor     Features\n",
       "0    1.134093  preciptotal\n",
       "1    1.305491       depart\n",
       "2    2.748661         heat\n",
       "3    3.242068         cool\n",
       "4    4.820396    resultdir\n",
       "5   17.202854  resultspeed\n",
       "6   28.971262     avgspeed\n",
       "7   61.384575     dewpoint\n",
       "8   85.207687         tmin"
      ]
     },
     "execution_count": 4,
     "metadata": {},
     "output_type": "execute_result"
    }
   ],
   "source": [
    "# wetbulb , stnpressure 제거\n",
    "df4 = df3.drop(['wetbulb' , 'stnpressure'], axis = 1)\n",
    "vif = pd.DataFrame()\n",
    "vif['VIF Factor'] = [vifval(df4.values , i) for i in range(df4.shape[1])]\n",
    "vif['Features'] = df4.columns\n",
    "vif.sort_values('VIF Factor').reset_index(drop = True)"
   ]
  },
  {
   "cell_type": "code",
   "execution_count": 5,
   "metadata": {},
   "outputs": [
    {
     "data": {
      "text/html": [
       "<div>\n",
       "<style scoped>\n",
       "    .dataframe tbody tr th:only-of-type {\n",
       "        vertical-align: middle;\n",
       "    }\n",
       "\n",
       "    .dataframe tbody tr th {\n",
       "        vertical-align: top;\n",
       "    }\n",
       "\n",
       "    .dataframe thead th {\n",
       "        text-align: right;\n",
       "    }\n",
       "</style>\n",
       "<table border=\"1\" class=\"dataframe\">\n",
       "  <thead>\n",
       "    <tr style=\"text-align: right;\">\n",
       "      <th></th>\n",
       "      <th>VIF Factor</th>\n",
       "      <th>Features</th>\n",
       "    </tr>\n",
       "  </thead>\n",
       "  <tbody>\n",
       "    <tr>\n",
       "      <th>0</th>\n",
       "      <td>1.098999</td>\n",
       "      <td>preciptotal</td>\n",
       "    </tr>\n",
       "    <tr>\n",
       "      <th>1</th>\n",
       "      <td>1.303924</td>\n",
       "      <td>depart</td>\n",
       "    </tr>\n",
       "    <tr>\n",
       "      <th>2</th>\n",
       "      <td>2.732665</td>\n",
       "      <td>heat</td>\n",
       "    </tr>\n",
       "    <tr>\n",
       "      <th>3</th>\n",
       "      <td>3.157330</td>\n",
       "      <td>cool</td>\n",
       "    </tr>\n",
       "    <tr>\n",
       "      <th>4</th>\n",
       "      <td>4.783267</td>\n",
       "      <td>resultdir</td>\n",
       "    </tr>\n",
       "    <tr>\n",
       "      <th>5</th>\n",
       "      <td>9.802694</td>\n",
       "      <td>tmin</td>\n",
       "    </tr>\n",
       "    <tr>\n",
       "      <th>6</th>\n",
       "      <td>16.836530</td>\n",
       "      <td>resultspeed</td>\n",
       "    </tr>\n",
       "    <tr>\n",
       "      <th>7</th>\n",
       "      <td>27.225326</td>\n",
       "      <td>avgspeed</td>\n",
       "    </tr>\n",
       "  </tbody>\n",
       "</table>\n",
       "</div>"
      ],
      "text/plain": [
       "   VIF Factor     Features\n",
       "0    1.098999  preciptotal\n",
       "1    1.303924       depart\n",
       "2    2.732665         heat\n",
       "3    3.157330         cool\n",
       "4    4.783267    resultdir\n",
       "5    9.802694         tmin\n",
       "6   16.836530  resultspeed\n",
       "7   27.225326     avgspeed"
      ]
     },
     "execution_count": 5,
     "metadata": {},
     "output_type": "execute_result"
    }
   ],
   "source": [
    "# dewpoint 제거 (온도를 알려주는 variable은 하나 남기기로 하자 )\n",
    "df5 = df4.drop(['dewpoint'], axis = 1)\n",
    "vif = pd.DataFrame()\n",
    "vif['VIF Factor'] = [vifval(df5.values , i) for i in range(df5.shape[1])]\n",
    "vif['Features'] = df5.columns\n",
    "vif.sort_values('VIF Factor').reset_index(drop = True)"
   ]
  },
  {
   "cell_type": "code",
   "execution_count": 6,
   "metadata": {},
   "outputs": [
    {
     "name": "stdout",
     "output_type": "stream",
     "text": [
      "                            OLS Regression Results                            \n",
      "==============================================================================\n",
      "Dep. Variable:                  log1p   R-squared:                       0.007\n",
      "Model:                            OLS   Adj. R-squared:                  0.007\n",
      "Method:                 Least Squares   F-statistic:                     196.5\n",
      "Date:                Fri, 06 Jul 2018   Prob (F-statistic):               0.00\n",
      "Time:                        14:42:22   Log-Likelihood:            -4.5498e+05\n",
      "No. Observations:              229230   AIC:                         9.100e+05\n",
      "Df Residuals:                  229221   BIC:                         9.101e+05\n",
      "Df Model:                           8                                         \n",
      "Covariance Type:            nonrobust                                         \n",
      "===============================================================================\n",
      "                  coef    std err          t      P>|t|      [0.025      0.975]\n",
      "-------------------------------------------------------------------------------\n",
      "Intercept       2.1404      0.054     39.756      0.000       2.035       2.246\n",
      "tmin           -0.0152      0.001    -15.424      0.000      -0.017      -0.013\n",
      "depart         -0.0045      0.001     -8.515      0.000      -0.006      -0.003\n",
      "heat           -0.0158      0.001    -15.586      0.000      -0.018      -0.014\n",
      "cool            0.0267      0.001     21.971      0.000       0.024       0.029\n",
      "preciptotal     0.0494      0.014      3.568      0.000       0.022       0.077\n",
      "resultspeed     0.0138      0.002      6.621      0.000       0.010       0.018\n",
      "resultdir      -0.0049      0.000    -12.581      0.000      -0.006      -0.004\n",
      "avgspeed        0.0157      0.002      7.050      0.000       0.011       0.020\n",
      "==============================================================================\n",
      "Omnibus:                   146825.624   Durbin-Watson:                   2.218\n",
      "Prob(Omnibus):                  0.000   Jarque-Bera (JB):            29170.357\n",
      "Skew:                           0.658   Prob(JB):                         0.00\n",
      "Kurtosis:                       1.851   Cond. No.                         832.\n",
      "==============================================================================\n",
      "\n",
      "Warnings:\n",
      "[1] Standard Errors assume that the covariance matrix of the errors is correctly specified.\n"
     ]
    }
   ],
   "source": [
    "# 남은 weather 변수들만 가지고 OLS를 돌려보자 : loglp ~ tmin +  depart + heat + cool + preciptotal + resultspeed + resultdir + avgspeed\n",
    "# weather 데이타만으로는 의미가 없다!  item_nbr 를보자 \n",
    "import statsmodels.api as sm\n",
    "model = sm.OLS.from_formula(\"log1p ~ tmin +  depart + heat + cool + preciptotal + resultspeed + resultdir + avgspeed\" , data= df).fit()\n",
    "print(model.summary())"
   ]
  },
  {
   "cell_type": "code",
   "execution_count": 7,
   "metadata": {},
   "outputs": [
    {
     "name": "stderr",
     "output_type": "stream",
     "text": [
      "/usr/local/lib/python3.6/site-packages/sklearn/linear_model/base.py:509: RuntimeWarning: internal gelsd driver lwork query error, required iwork dimension not returned. This is likely the result of LAPACK bug 0038, fixed in LAPACK 3.2.2 (released July 21, 2010). Falling back to 'gelss' driver.\n",
      "  linalg.lstsq(X, y)\n"
     ]
    },
    {
     "name": "stdout",
     "output_type": "stream",
     "text": [
      "0.8546477138172923\n"
     ]
    }
   ],
   "source": [
    "# 남은 weather 변수들과 item_nbr 관계를 가지고 OLS를 돌려보자 : loglp ~ C(item_nbr):(tmin +  depart + heat + cool + preciptotal + resultspeed + resultdir + avgspeed)  \n",
    "from patsy import dmatrix \n",
    "from sklearn.linear_model import LinearRegression\n",
    "from sklearn.model_selection import *\n",
    "\n",
    "matrix_df = pd.DataFrame(dmatrix(\"C(item_nbr):(tmin +  depart + heat + cool + preciptotal + resultspeed + resultdir + avgspeed)\", data=df))\n",
    "model = LinearRegression(fit_intercept=False)\n",
    "result = model.fit(matrix_df,df[\"log1p\"])\n",
    "print(result.score(matrix_df,df[\"log1p\"]))\n"
   ]
  },
  {
   "cell_type": "code",
   "execution_count": 8,
   "metadata": {},
   "outputs": [
    {
     "name": "stdout",
     "output_type": "stream",
     "text": [
      "0.8517213138155479\n"
     ]
    }
   ],
   "source": [
    "# 다른 독립변수와 상관 관계가 가장 높이 나왔던 avgspeed 와 resultspeed 를 빼고 OLS 를 구해보자 \n",
    "# 남은 weather 변수들과 item_nbr 관계를 가지고 OLS를 돌려보자 : loglp ~ C(item_nbr):(tmin +  depart + heat + cool + preciptotal + resultspeed + resultdir + avgspeed) \n",
    "matrix_df = pd.DataFrame(dmatrix(\"C(item_nbr):(tmin +  depart + heat + cool + preciptotal+ resultdir)\", data=df))\n",
    "model = LinearRegression(fit_intercept=False)\n",
    "result = model.fit(matrix_df,df[\"log1p\"])\n",
    "print(result.score(matrix_df,df[\"log1p\"]))\n"
   ]
  },
  {
   "cell_type": "code",
   "execution_count": 9,
   "metadata": {},
   "outputs": [
    {
     "name": "stdout",
     "output_type": "stream",
     "text": [
      "0.8514270387529421\n"
     ]
    }
   ],
   "source": [
    "# 설명력에 차이가 없으므로 독립변수를 더 빼도 설명력에 변화가 없는지 알아보자 \n",
    "# resultdir 제거\n",
    "matrix_df = pd.DataFrame(dmatrix(\"C(item_nbr):(depart + heat + cool + preciptotal + tmin)\", data=df))\n",
    "model = LinearRegression(fit_intercept=False)\n",
    "result = model.fit(matrix_df,df[\"log1p\"])\n",
    "print(result.score(matrix_df,df[\"log1p\"]))"
   ]
  },
  {
   "cell_type": "code",
   "execution_count": 20,
   "metadata": {},
   "outputs": [
    {
     "name": "stdout",
     "output_type": "stream",
     "text": [
      "0.8452080907320823\n"
     ]
    }
   ],
   "source": [
    "# Lasso 로 overfitting 된 coefficient 제거 :alpha=0.01, L1_wt=1\n",
    "from sklearn.linear_model import Lasso\n",
    "lassoreg = Lasso(alpha=.01)\n",
    "model = lassoreg.fit(matrix_df,df[\"log1p\"])\n",
    "result = model.fit(matrix_df,df[\"log1p\"])\n",
    "print(result.score(matrix_df,df[\"log1p\"]))"
   ]
  },
  {
   "cell_type": "code",
   "execution_count": null,
   "metadata": {},
   "outputs": [],
   "source": [
    "cv = KFold(10)\n",
    "kfold = cross_val_score(result,matrix_df,df[\"log1p\"], scoring=\"r2\", cv=cv)\n",
    "kfold, kfold.mean()"
   ]
  },
  {
   "cell_type": "code",
   "execution_count": null,
   "metadata": {},
   "outputs": [],
   "source": []
  }
 ],
 "metadata": {
  "kernelspec": {
   "display_name": "Python 3",
   "language": "python",
   "name": "python3"
  },
  "language_info": {
   "codemirror_mode": {
    "name": "ipython",
    "version": 3
   },
   "file_extension": ".py",
   "mimetype": "text/x-python",
   "name": "python",
   "nbconvert_exporter": "python",
   "pygments_lexer": "ipython3",
   "version": "3.6.5"
  }
 },
 "nbformat": 4,
 "nbformat_minor": 2
}
