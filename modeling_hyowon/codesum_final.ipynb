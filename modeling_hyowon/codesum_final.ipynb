{
 "cells": [
  {
   "cell_type": "code",
   "execution_count": 1,
   "metadata": {},
   "outputs": [
    {
     "name": "stdout",
     "output_type": "stream",
     "text": [
      "Train data :  (4617600, 4)\n",
      "Test  data :  (526917, 3)\n",
      "weather  data :  (20517, 20)\n"
     ]
    }
   ],
   "source": [
    "# Ignore the warnings\n",
    "import warnings\n",
    "warnings.filterwarnings('ignore')\n",
    "\n",
    "# Load the dataset\n",
    "train = pd.read_csv(\"../asset/train.csv\")\n",
    "test = pd.read_csv(\"../asset/test.csv\")\n",
    "weather = pd.read_csv(\"../asset/weather.csv\")\n",
    "key = pd.read_csv(\"../asset/key.csv\")\n",
    "df_train_with_station_nbr = pd.read_csv(\"df_train_with_station_nbr_201806202007.csv\")\n",
    "\n",
    "# Success - Display the first record\n",
    "print(\"Train data : \", train.shape)\n",
    "print(\"Test  data : \", test.shape)\n",
    "print(\"weather  data : \", weather.shape)\n",
    "\n",
    "import pickle\n",
    "import awesome_functions as cf\n",
    "\n",
    "slack_url = pickle.load(open(\"send_url.pickle\", \"rb\"))\n",
    "slack_url\n",
    "\n",
    "# 원본을 유지하기 위해서 카피\n",
    "df_train = train.copy()\n",
    "df_weather = weather.copy()\n",
    "df_key = key.copy()\n",
    "df = df_train_with_station_nbr.copy()"
   ]
  },
  {
   "cell_type": "code",
   "execution_count": 2,
   "metadata": {},
   "outputs": [],
   "source": [
    "df_weather = weather.copy()"
   ]
  },
  {
   "cell_type": "code",
   "execution_count": 3,
   "metadata": {},
   "outputs": [],
   "source": [
    "def getCodesumUniqueDataList(df):\n",
    "    df_codesum = df[\"codesum\"]\n",
    "    codesum_data_list = []\n",
    "    for codesum in df_codesum:\n",
    "        codesum = str(codesum).strip()\n",
    "        cds = codesum.split(\" \")\n",
    "        if len(cds) != 0:\n",
    "            for cd in cds:\n",
    "                if cd != \"\":\n",
    "                    if len(cd) > 3:\n",
    "                        if cd[:2] not in codesum_data_list:\n",
    "                            codesum_data_list.append(cd[:2])\n",
    "                        if cd[2:] not in codesum_data_list:\n",
    "                            codesum_data_list.append(cd[2:])\n",
    "                    else:   \n",
    "                        if cd not in codesum_data_list:\n",
    "                            codesum_data_list.append(cd)\n",
    "    return codesum_data_list"
   ]
  },
  {
   "cell_type": "code",
   "execution_count": 4,
   "metadata": {},
   "outputs": [],
   "source": [
    "codesum_list = getCodesumUniqueDataList(df_weather)"
   ]
  },
  {
   "cell_type": "code",
   "execution_count": 5,
   "metadata": {},
   "outputs": [],
   "source": [
    "codesum_list.append(\"MO\")"
   ]
  },
  {
   "cell_type": "code",
   "execution_count": 6,
   "metadata": {},
   "outputs": [],
   "source": [
    "codesum_formats = [\n",
    " \"Rain\", \"Freezing\", \"Fog\", \"Mist\", \"Unknown Precipitation\",\\\n",
    " \"HeavyFog\", \"Shallow\", \"Snow\", \"Haze\", \"ThunderStorm\", \"Vicinity\",\\\n",
    " \"Drizzle\", \"Blowing\", \"Patches\", \"Widespread Dust\", \"Squall\", \"Ice Pellets\",\\\n",
    " \"Smoke\", \"Hail\", \"Small Hail or Snow Pellets\", \"Snow Grains\", \"Partial\", \"Moderate\"\n",
    "]"
   ]
  },
  {
   "cell_type": "code",
   "execution_count": 7,
   "metadata": {},
   "outputs": [],
   "source": [
    "codesum_dict = dict(zip(codesum_list, codesum_formats))"
   ]
  },
  {
   "cell_type": "code",
   "execution_count": 8,
   "metadata": {},
   "outputs": [
    {
     "data": {
      "text/plain": [
       "{'RA': 'Rain',\n",
       " 'FZ': 'Freezing',\n",
       " 'FG': 'Fog',\n",
       " 'BR': 'Mist',\n",
       " 'UP': 'Unknown Precipitation',\n",
       " 'FG+': 'HeavyFog',\n",
       " 'MI': 'Shallow',\n",
       " 'SN': 'Snow',\n",
       " 'HZ': 'Haze',\n",
       " 'TS': 'ThunderStorm',\n",
       " 'VC': 'Vicinity',\n",
       " 'DZ': 'Drizzle',\n",
       " 'BL': 'Blowing',\n",
       " 'BC': 'Patches',\n",
       " 'DU': 'Widespread Dust',\n",
       " 'SQ': 'Squall',\n",
       " 'PL': 'Ice Pellets',\n",
       " 'FU': 'Smoke',\n",
       " 'GR': 'Hail',\n",
       " 'GS': 'Small Hail or Snow Pellets',\n",
       " 'SG': 'Snow Grains',\n",
       " 'PR': 'Partial',\n",
       " 'MO': 'Moderate'}"
      ]
     },
     "execution_count": 8,
     "metadata": {},
     "output_type": "execute_result"
    }
   ],
   "source": [
    "codesum_dict"
   ]
  },
  {
   "cell_type": "code",
   "execution_count": 9,
   "metadata": {},
   "outputs": [],
   "source": [
    "def setCodesumUniqueDataList(codesum):\n",
    "    codesums = str(codesum).strip().split(\" \")\n",
    "    \n",
    "    for cd in codesums:\n",
    "        if cd != \"\":\n",
    "            if len(cd) > 3:\n",
    "                if cd[:2] == format_d:\n",
    "                    return 1\n",
    "                if cd[2:] == format_d:\n",
    "                    return 1\n",
    "            else:   \n",
    "                if cd == format_d:\n",
    "                    return 1\n",
    "        else:\n",
    "            return 0\n",
    "\n",
    "for fm in codesum_list:\n",
    "    format_d = fm\n",
    "    df_weather[fm] = df_weather[\"codesum\"].apply(getCodesumUniqueDataList)\n",
    "\n",
    "df_weather[\"MO\"] = df_weather[\"MO\"].fillna(1)"
   ]
  },
  {
   "cell_type": "code",
   "execution_count": 10,
   "metadata": {},
   "outputs": [],
   "source": [
    "rows_num = []\n",
    "for cd in codesum_list:\n",
    "    rows_num.append([df_weather[cd].sum(), str(round(df_weather[cd].sum() / len(df_weather) * 100, 2)) + \"%\"])\n",
    "    \n",
    "codesum_num = dict(zip(codesum_list, rows_num))"
   ]
  },
  {
   "cell_type": "code",
   "execution_count": 11,
   "metadata": {},
   "outputs": [
    {
     "data": {
      "text/plain": [
       "{'RA': [5325.0, '25.95%'],\n",
       " 'FZ': [332.0, '1.62%'],\n",
       " 'FG': [928.0, '4.52%'],\n",
       " 'BR': [6359.0, '30.99%'],\n",
       " 'UP': [230.0, '1.12%'],\n",
       " 'FG+': [837.0, '4.08%'],\n",
       " 'MI': [52.0, '0.25%'],\n",
       " 'SN': [1008.0, '4.91%'],\n",
       " 'HZ': [1482.0, '7.22%'],\n",
       " 'TS': [1888.0, '9.2%'],\n",
       " 'VC': [571.0, '2.78%'],\n",
       " 'DZ': [497.0, '2.42%'],\n",
       " 'BL': [59.0, '0.29%'],\n",
       " 'BC': [111.0, '0.54%'],\n",
       " 'DU': [28.0, '0.14%'],\n",
       " 'SQ': [14.0, '0.07%'],\n",
       " 'PL': [20.0, '0.1%'],\n",
       " 'FU': [33.0, '0.16%'],\n",
       " 'GR': [3.0, '0.01%'],\n",
       " 'GS': [5.0, '0.02%'],\n",
       " 'SG': [1.0, '0.0%'],\n",
       " 'PR': [1.0, '0.0%'],\n",
       " 'MO': [9466.0, '46.14%']}"
      ]
     },
     "execution_count": 11,
     "metadata": {},
     "output_type": "execute_result"
    }
   ],
   "source": [
    "codesum_num"
   ]
  },
  {
   "cell_type": "code",
   "execution_count": 12,
   "metadata": {},
   "outputs": [],
   "source": [
    "df_weather = df_weather.fillna(0)"
   ]
  },
  {
   "cell_type": "code",
   "execution_count": 13,
   "metadata": {},
   "outputs": [],
   "source": [
    "df = pickle.load(open(\"preprocess_date.pkl\", \"rb\"))"
   ]
  },
  {
   "cell_type": "code",
   "execution_count": 14,
   "metadata": {},
   "outputs": [],
   "source": [
    "df = df.merge(df_weather, on=[\"date\", \"station_nbr\"], how = \"inner\")"
   ]
  },
  {
   "cell_type": "code",
   "execution_count": null,
   "metadata": {},
   "outputs": [],
   "source": [
    "# independent two sample test \n",
    "for i, codesum in enumerate(codesum_list):\n",
    "    statistic , p_value = sp.stats.ttest_ind(unitsByCodesum[i], unitsByCodesum[len(unitsByCodesum) - 1], equal_var = False)\n",
    "    print(unitsByCodesum[i], unitsByCodesum[len(unitsByCodesum) - 1])\n",
    "    print(codesum)\n",
    "    print(round(p_value, 5))"
   ]
  },
  {
   "cell_type": "code",
   "execution_count": 26,
   "metadata": {},
   "outputs": [],
   "source": [
    "df_moderate = df[df[\"MO\"] != 0]"
   ]
  },
  {
   "cell_type": "code",
   "execution_count": 54,
   "metadata": {},
   "outputs": [],
   "source": [
    "df_moderate_units = df_moderate[df_moderate[\"units\"] != 0]"
   ]
  },
  {
   "cell_type": "code",
   "execution_count": 59,
   "metadata": {},
   "outputs": [],
   "source": [
    "def getUnitsByCodesum(df):\n",
    "    result_li = []\n",
    "    for codesum in codesum_list:\n",
    "        df_ = df[df[codesum] != 0]\n",
    "        day_length = len(df_)\n",
    "#         print(str(codesum) + \"인 Row의 수 : \" + str(day_length))\n",
    "        # independent two sample test \n",
    "        statistic , p_value = sp.stats.ttest_ind(df_[\"units\"], df_moderate[\"units\"], equal_var = False)\n",
    "        if p_value <= 0.01:\n",
    "            print(codesum_dict[codesum], codesum_num[codesum])\n",
    "            print(round(p_value, 5))\n",
    "#         else:\n",
    "        \n",
    "#         df_units = df_[df_[\"units\"] != 0]\n",
    "#         length = len(df_units)\n",
    "#         print(str(codesum) + \"인 날에 팔린 아이템들의 총 량 : \" + str(length))\n",
    "#         result_li.append(round(length/day_length, 2))\n",
    "#     return result_li"
   ]
  },
  {
   "cell_type": "code",
   "execution_count": 64,
   "metadata": {},
   "outputs": [],
   "source": [
    "df = df[df[\"station_nbr\"] != 5]"
   ]
  },
  {
   "cell_type": "code",
   "execution_count": 66,
   "metadata": {},
   "outputs": [
    {
     "name": "stdout",
     "output_type": "stream",
     "text": [
      "Freezing [332.0, '1.62%']\n",
      "0.0045\n",
      "Fog [928.0, '4.52%']\n",
      "0.0\n",
      "HeavyFog [837.0, '4.08%']\n",
      "0.0\n",
      "Haze [1482.0, '7.22%']\n",
      "0.0\n",
      "ThunderStorm [1888.0, '9.2%']\n",
      "0.00873\n",
      "Drizzle [497.0, '2.42%']\n",
      "0.0\n",
      "Blowing [59.0, '0.29%']\n",
      "0.0021\n",
      "Patches [111.0, '0.54%']\n",
      "6e-05\n",
      "Widespread Dust [28.0, '0.14%']\n",
      "2e-05\n",
      "Ice Pellets [20.0, '0.1%']\n",
      "2e-05\n"
     ]
    }
   ],
   "source": [
    "getUnitsByCodesum(df)"
   ]
  },
  {
   "cell_type": "code",
   "execution_count": 16,
   "metadata": {},
   "outputs": [
    {
     "name": "stdout",
     "output_type": "stream",
     "text": [
      "RA인 Row의 수 : 57957\n",
      "RA인 날에 팔린 아이템들의 총 량 : 29522\n",
      "FZ인 Row의 수 : 4349\n",
      "FZ인 날에 팔린 아이템들의 총 량 : 2034\n",
      "FG인 Row의 수 : 10618\n",
      "FG인 날에 팔린 아이템들의 총 량 : 5037\n",
      "BR인 Row의 수 : 67319\n",
      "BR인 날에 팔린 아이템들의 총 량 : 34194\n",
      "UP인 Row의 수 : 2166\n",
      "UP인 날에 팔린 아이템들의 총 량 : 1046\n",
      "FG+인 Row의 수 : 8728\n",
      "FG+인 날에 팔린 아이템들의 총 량 : 4133\n",
      "MI인 Row의 수 : 635\n",
      "MI인 날에 팔린 아이템들의 총 량 : 303\n",
      "SN인 Row의 수 : 12312\n",
      "SN인 날에 팔린 아이템들의 총 량 : 5910\n",
      "HZ인 Row의 수 : 14437\n",
      "HZ인 날에 팔린 아이템들의 총 량 : 7586\n",
      "TS인 Row의 수 : 22149\n",
      "TS인 날에 팔린 아이템들의 총 량 : 11602\n",
      "VC인 Row의 수 : 5537\n",
      "VC인 날에 팔린 아이템들의 총 량 : 2977\n",
      "DZ인 Row의 수 : 3735\n",
      "DZ인 날에 팔린 아이템들의 총 량 : 2038\n",
      "BL인 Row의 수 : 759\n",
      "BL인 날에 팔린 아이템들의 총 량 : 353\n",
      "BC인 Row의 수 : 1330\n",
      "BC인 날에 팔린 아이템들의 총 량 : 726\n",
      "DU인 Row의 수 : 304\n",
      "DU인 날에 팔린 아이템들의 총 량 : 172\n",
      "SQ인 Row의 수 : 127\n",
      "SQ인 날에 팔린 아이템들의 총 량 : 82\n",
      "PL인 Row의 수 : 161\n",
      "PL인 날에 팔린 아이템들의 총 량 : 96\n",
      "FU인 Row의 수 : 597\n",
      "FU인 날에 팔린 아이템들의 총 량 : 311\n",
      "GR인 Row의 수 : 16\n",
      "GR인 날에 팔린 아이템들의 총 량 : 10\n",
      "GS인 Row의 수 : 68\n",
      "GS인 날에 팔린 아이템들의 총 량 : 31\n",
      "SG인 Row의 수 : 4\n",
      "SG인 날에 팔린 아이템들의 총 량 : 3\n",
      "PR인 Row의 수 : 4\n",
      "PR인 날에 팔린 아이템들의 총 량 : 2\n",
      "MO인 Row의 수 : 104713\n",
      "MO인 날에 팔린 아이템들의 총 량 : 53136\n"
     ]
    }
   ],
   "source": [
    "unitsByCodesum = getUnitsByCodesum(df)"
   ]
  },
  {
   "cell_type": "markdown",
   "metadata": {},
   "source": [
    "## 그 해당 날들에 팔린 아이템 총 수량 / Weather Event가 발생한 Row의 숫자 "
   ]
  },
  {
   "cell_type": "code",
   "execution_count": 17,
   "metadata": {},
   "outputs": [
    {
     "data": {
      "image/png": "[encoded data removed]",
      "text/plain": [
       "<Figure size 864x360 with 1 Axes>"
      ]
     },
     "metadata": {
      "image/png": {
       "height": 302,
       "width": 708
      }
     },
     "output_type": "display_data"
    }
   ],
   "source": [
    "plt.figure(figsize=(12, 5))\n",
    "plt.bar(codesum_list, unitsByCodesum)\n",
    "plt.show()"
   ]
  },
  {
   "cell_type": "code",
   "execution_count": 19,
   "metadata": {},
   "outputs": [
    {
     "data": {
      "text/plain": [
       "Power_divergenceResult(statistic=20.227682227682227, pvalue=0.5688001427593292)"
      ]
     },
     "execution_count": 19,
     "metadata": {},
     "output_type": "execute_result"
    }
   ],
   "source": [
    "sp.stats.chisquare(np.array(unitsByCodesum) * 100)"
   ]
  }
 ],
 "metadata": {
  "kernelspec": {
   "display_name": "Python 3",
   "language": "python",
   "name": "python3"
  },
  "language_info": {
   "codemirror_mode": {
    "name": "ipython",
    "version": 3
   },
   "file_extension": ".py",
   "mimetype": "text/x-python",
   "name": "python",
   "nbconvert_exporter": "python",
   "pygments_lexer": "ipython3",
   "version": "3.6.5"
  }
 },
 "nbformat": 4,
 "nbformat_minor": 2
}
