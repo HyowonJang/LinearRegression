{
 "cells": [
  {
   "cell_type": "code",
   "execution_count": 1,
   "metadata": {},
   "outputs": [
    {
     "name": "stdout",
     "output_type": "stream",
     "text": [
      "Train data :  (4617600, 4)\n",
      "Test  data :  (526917, 3)\n",
      "weather  data :  (20517, 20)\n",
      "key  data :  (45, 2)\n",
      "submission  data :  (526917, 2)\n"
     ]
    }
   ],
   "source": [
    "import numpy as np\n",
    "import pandas as pd\n",
    "import scipy as sp\n",
    "import matplotlib.pyplot as plt\n",
    "import seaborn as sns\n",
    "\n",
    "# Pretty display for notebooks\n",
    "'''\n",
    "%matplotlib inline\n",
    "'''\n",
    "\n",
    "# Load the dataset\n",
    "train = pd.read_csv(\"../asset/train.csv\")\n",
    "test = pd.read_csv(\"../asset/test.csv\")\n",
    "weather = pd.read_csv(\"../asset/weather.csv\")\n",
    "key = pd.read_csv(\"../asset/key.csv\")\n",
    "submission_example = pd.read_csv(\"../asset/sampleSubmission.csv\")\n",
    "\n",
    "# Success - Display the first record\n",
    "print(\"Train data : \", train.shape)\n",
    "print(\"Test  data : \", test.shape)\n",
    "print(\"weather  data : \", weather.shape)\n",
    "print(\"key  data : \", key.shape)\n",
    "print(\"submission  data : \", submission_example.shape)\n",
    "\n",
    "import pickle\n",
    "import awesome_functions as cf\n",
    "\n",
    "# 원본을 유지하기 위해서 카피\n",
    "df_train = train.copy()\n",
    "df_weather = weather.copy()\n",
    "df_key = key.copy()\n",
    "df_test = test.copy()"
   ]
  },
  {
   "cell_type": "code",
   "execution_count": 2,
   "metadata": {},
   "outputs": [],
   "source": [
    "train_preprocess = pickle.load(open(\"preprocess_date.pkl\", \"rb\"))"
   ]
  },
  {
   "cell_type": "code",
   "execution_count": 3,
   "metadata": {},
   "outputs": [],
   "source": [
    "weather_refined = pd.read_csv(\"weather+holyday_201807041434.csv\")"
   ]
  },
  {
   "cell_type": "code",
   "execution_count": 4,
   "metadata": {
    "scrolled": true
   },
   "outputs": [
    {
     "data": {
      "text/html": [
       "<div>\n",
       "<style scoped>\n",
       "    .dataframe tbody tr th:only-of-type {\n",
       "        vertical-align: middle;\n",
       "    }\n",
       "\n",
       "    .dataframe tbody tr th {\n",
       "        vertical-align: top;\n",
       "    }\n",
       "\n",
       "    .dataframe thead th {\n",
       "        text-align: right;\n",
       "    }\n",
       "</style>\n",
       "<table border=\"1\" class=\"dataframe\">\n",
       "  <thead>\n",
       "    <tr style=\"text-align: right;\">\n",
       "      <th></th>\n",
       "      <th>station_nbr</th>\n",
       "      <th>date</th>\n",
       "      <th>tmax</th>\n",
       "      <th>tmin</th>\n",
       "      <th>tavg</th>\n",
       "      <th>depart</th>\n",
       "      <th>dewpoint</th>\n",
       "      <th>wetbulb</th>\n",
       "      <th>heat</th>\n",
       "      <th>cool</th>\n",
       "      <th>preciptotal</th>\n",
       "      <th>stnpressure</th>\n",
       "      <th>resultspeed</th>\n",
       "      <th>resultdir</th>\n",
       "      <th>avgspeed</th>\n",
       "    </tr>\n",
       "  </thead>\n",
       "  <tbody>\n",
       "    <tr>\n",
       "      <th>19660</th>\n",
       "      <td>20</td>\n",
       "      <td>2014-10-27</td>\n",
       "      <td>85</td>\n",
       "      <td>66</td>\n",
       "      <td>75</td>\n",
       "      <td>6</td>\n",
       "      <td>59</td>\n",
       "      <td>65</td>\n",
       "      <td>0</td>\n",
       "      <td>10</td>\n",
       "      <td>0.0</td>\n",
       "      <td>29.11</td>\n",
       "      <td>10.0</td>\n",
       "      <td>18.0</td>\n",
       "      <td>10.4</td>\n",
       "    </tr>\n",
       "    <tr>\n",
       "      <th>19661</th>\n",
       "      <td>20</td>\n",
       "      <td>2014-10-28</td>\n",
       "      <td>80</td>\n",
       "      <td>68</td>\n",
       "      <td>74</td>\n",
       "      <td>5</td>\n",
       "      <td>60</td>\n",
       "      <td>65</td>\n",
       "      <td>0</td>\n",
       "      <td>9</td>\n",
       "      <td>0.0</td>\n",
       "      <td>29.30</td>\n",
       "      <td>3.1</td>\n",
       "      <td>36.0</td>\n",
       "      <td>6.4</td>\n",
       "    </tr>\n",
       "    <tr>\n",
       "      <th>19662</th>\n",
       "      <td>20</td>\n",
       "      <td>2014-10-29</td>\n",
       "      <td>78</td>\n",
       "      <td>55</td>\n",
       "      <td>66</td>\n",
       "      <td>-2</td>\n",
       "      <td>47</td>\n",
       "      <td>56</td>\n",
       "      <td>0</td>\n",
       "      <td>1</td>\n",
       "      <td>0.0</td>\n",
       "      <td>29.42</td>\n",
       "      <td>4.9</td>\n",
       "      <td>6.0</td>\n",
       "      <td>6.1</td>\n",
       "    </tr>\n",
       "    <tr>\n",
       "      <th>19663</th>\n",
       "      <td>20</td>\n",
       "      <td>2014-10-30</td>\n",
       "      <td>80</td>\n",
       "      <td>52</td>\n",
       "      <td>66</td>\n",
       "      <td>-2</td>\n",
       "      <td>50</td>\n",
       "      <td>57</td>\n",
       "      <td>0</td>\n",
       "      <td>1</td>\n",
       "      <td>0.0</td>\n",
       "      <td>29.40</td>\n",
       "      <td>1.6</td>\n",
       "      <td>14.0</td>\n",
       "      <td>4.9</td>\n",
       "    </tr>\n",
       "    <tr>\n",
       "      <th>19664</th>\n",
       "      <td>20</td>\n",
       "      <td>2014-10-31</td>\n",
       "      <td>68</td>\n",
       "      <td>50</td>\n",
       "      <td>59</td>\n",
       "      <td>-9</td>\n",
       "      <td>39</td>\n",
       "      <td>50</td>\n",
       "      <td>6</td>\n",
       "      <td>0</td>\n",
       "      <td>0.0</td>\n",
       "      <td>29.57</td>\n",
       "      <td>10.5</td>\n",
       "      <td>36.0</td>\n",
       "      <td>11.2</td>\n",
       "    </tr>\n",
       "  </tbody>\n",
       "</table>\n",
       "</div>"
      ],
      "text/plain": [
       "       station_nbr        date  tmax  tmin  tavg  depart  dewpoint  wetbulb  \\\n",
       "19660           20  2014-10-27    85    66    75       6        59       65   \n",
       "19661           20  2014-10-28    80    68    74       5        60       65   \n",
       "19662           20  2014-10-29    78    55    66      -2        47       56   \n",
       "19663           20  2014-10-30    80    52    66      -2        50       57   \n",
       "19664           20  2014-10-31    68    50    59      -9        39       50   \n",
       "\n",
       "       heat  cool  preciptotal  stnpressure  resultspeed  resultdir  avgspeed  \n",
       "19660     0    10          0.0        29.11         10.0       18.0      10.4  \n",
       "19661     0     9          0.0        29.30          3.1       36.0       6.4  \n",
       "19662     0     1          0.0        29.42          4.9        6.0       6.1  \n",
       "19663     0     1          0.0        29.40          1.6       14.0       4.9  \n",
       "19664     6     0          0.0        29.57         10.5       36.0      11.2  "
      ]
     },
     "execution_count": 4,
     "metadata": {},
     "output_type": "execute_result"
    }
   ],
   "source": [
    "weather_refined_drop = weather_refined.drop([\"year\",\"month\",\"day\",\"weekday\",\"holiday\",\"sunrise\",\"sunset\",\"snowfall\",\"sealevel\",\"codesum\"], axis=1)\n",
    "weather_refined_drop.tail()"
   ]
  },
  {
   "cell_type": "code",
   "execution_count": 5,
   "metadata": {},
   "outputs": [
    {
     "data": {
      "text/html": [
       "<div>\n",
       "<style scoped>\n",
       "    .dataframe tbody tr th:only-of-type {\n",
       "        vertical-align: middle;\n",
       "    }\n",
       "\n",
       "    .dataframe tbody tr th {\n",
       "        vertical-align: top;\n",
       "    }\n",
       "\n",
       "    .dataframe thead th {\n",
       "        text-align: right;\n",
       "    }\n",
       "</style>\n",
       "<table border=\"1\" class=\"dataframe\">\n",
       "  <thead>\n",
       "    <tr style=\"text-align: right;\">\n",
       "      <th></th>\n",
       "      <th>date</th>\n",
       "      <th>store_nbr</th>\n",
       "      <th>item_nbr</th>\n",
       "      <th>units</th>\n",
       "      <th>log1p</th>\n",
       "      <th>date2</th>\n",
       "      <th>station_nbr</th>\n",
       "      <th>preciptotal_flag</th>\n",
       "      <th>depart_flag</th>\n",
       "      <th>weekday</th>\n",
       "      <th>...</th>\n",
       "      <th>depart</th>\n",
       "      <th>dewpoint</th>\n",
       "      <th>wetbulb</th>\n",
       "      <th>heat</th>\n",
       "      <th>cool</th>\n",
       "      <th>preciptotal</th>\n",
       "      <th>stnpressure</th>\n",
       "      <th>resultspeed</th>\n",
       "      <th>resultdir</th>\n",
       "      <th>avgspeed</th>\n",
       "    </tr>\n",
       "  </thead>\n",
       "  <tbody>\n",
       "    <tr>\n",
       "      <th>229225</th>\n",
       "      <td>2014-10-30</td>\n",
       "      <td>39</td>\n",
       "      <td>111</td>\n",
       "      <td>3</td>\n",
       "      <td>1.386294</td>\n",
       "      <td>2014-10-30</td>\n",
       "      <td>8</td>\n",
       "      <td>0.0</td>\n",
       "      <td>0.0</td>\n",
       "      <td>3</td>\n",
       "      <td>...</td>\n",
       "      <td>-1</td>\n",
       "      <td>60</td>\n",
       "      <td>63</td>\n",
       "      <td>0</td>\n",
       "      <td>5</td>\n",
       "      <td>0.0</td>\n",
       "      <td>29.74</td>\n",
       "      <td>0.30</td>\n",
       "      <td>11.0</td>\n",
       "      <td>0.2</td>\n",
       "    </tr>\n",
       "    <tr>\n",
       "      <th>229226</th>\n",
       "      <td>2014-10-31</td>\n",
       "      <td>39</td>\n",
       "      <td>9</td>\n",
       "      <td>12</td>\n",
       "      <td>2.564949</td>\n",
       "      <td>2014-10-31</td>\n",
       "      <td>8</td>\n",
       "      <td>0.0</td>\n",
       "      <td>0.0</td>\n",
       "      <td>4</td>\n",
       "      <td>...</td>\n",
       "      <td>-5</td>\n",
       "      <td>38</td>\n",
       "      <td>65</td>\n",
       "      <td>0</td>\n",
       "      <td>1</td>\n",
       "      <td>0.0</td>\n",
       "      <td>29.82</td>\n",
       "      <td>11.55</td>\n",
       "      <td>20.5</td>\n",
       "      <td>5.1</td>\n",
       "    </tr>\n",
       "    <tr>\n",
       "      <th>229227</th>\n",
       "      <td>2014-10-31</td>\n",
       "      <td>39</td>\n",
       "      <td>36</td>\n",
       "      <td>3</td>\n",
       "      <td>1.386294</td>\n",
       "      <td>2014-10-31</td>\n",
       "      <td>8</td>\n",
       "      <td>0.0</td>\n",
       "      <td>0.0</td>\n",
       "      <td>4</td>\n",
       "      <td>...</td>\n",
       "      <td>-5</td>\n",
       "      <td>38</td>\n",
       "      <td>65</td>\n",
       "      <td>0</td>\n",
       "      <td>1</td>\n",
       "      <td>0.0</td>\n",
       "      <td>29.82</td>\n",
       "      <td>11.55</td>\n",
       "      <td>20.5</td>\n",
       "      <td>5.1</td>\n",
       "    </tr>\n",
       "    <tr>\n",
       "      <th>229228</th>\n",
       "      <td>2014-10-31</td>\n",
       "      <td>39</td>\n",
       "      <td>103</td>\n",
       "      <td>4</td>\n",
       "      <td>1.609438</td>\n",
       "      <td>2014-10-31</td>\n",
       "      <td>8</td>\n",
       "      <td>0.0</td>\n",
       "      <td>0.0</td>\n",
       "      <td>4</td>\n",
       "      <td>...</td>\n",
       "      <td>-5</td>\n",
       "      <td>38</td>\n",
       "      <td>65</td>\n",
       "      <td>0</td>\n",
       "      <td>1</td>\n",
       "      <td>0.0</td>\n",
       "      <td>29.82</td>\n",
       "      <td>11.55</td>\n",
       "      <td>20.5</td>\n",
       "      <td>5.1</td>\n",
       "    </tr>\n",
       "    <tr>\n",
       "      <th>229229</th>\n",
       "      <td>2014-10-31</td>\n",
       "      <td>39</td>\n",
       "      <td>111</td>\n",
       "      <td>2</td>\n",
       "      <td>1.098612</td>\n",
       "      <td>2014-10-31</td>\n",
       "      <td>8</td>\n",
       "      <td>0.0</td>\n",
       "      <td>0.0</td>\n",
       "      <td>4</td>\n",
       "      <td>...</td>\n",
       "      <td>-5</td>\n",
       "      <td>38</td>\n",
       "      <td>65</td>\n",
       "      <td>0</td>\n",
       "      <td>1</td>\n",
       "      <td>0.0</td>\n",
       "      <td>29.82</td>\n",
       "      <td>11.55</td>\n",
       "      <td>20.5</td>\n",
       "      <td>5.1</td>\n",
       "    </tr>\n",
       "  </tbody>\n",
       "</table>\n",
       "<p>5 rows × 32 columns</p>\n",
       "</div>"
      ],
      "text/plain": [
       "              date  store_nbr  item_nbr  units     log1p      date2  \\\n",
       "229225  2014-10-30         39       111      3  1.386294 2014-10-30   \n",
       "229226  2014-10-31         39         9     12  2.564949 2014-10-31   \n",
       "229227  2014-10-31         39        36      3  1.386294 2014-10-31   \n",
       "229228  2014-10-31         39       103      4  1.609438 2014-10-31   \n",
       "229229  2014-10-31         39       111      2  1.098612 2014-10-31   \n",
       "\n",
       "        station_nbr  preciptotal_flag  depart_flag  weekday    ...     depart  \\\n",
       "229225            8               0.0          0.0        3    ...         -1   \n",
       "229226            8               0.0          0.0        4    ...         -5   \n",
       "229227            8               0.0          0.0        4    ...         -5   \n",
       "229228            8               0.0          0.0        4    ...         -5   \n",
       "229229            8               0.0          0.0        4    ...         -5   \n",
       "\n",
       "        dewpoint  wetbulb  heat  cool  preciptotal  stnpressure resultspeed  \\\n",
       "229225        60       63     0     5          0.0        29.74        0.30   \n",
       "229226        38       65     0     1          0.0        29.82       11.55   \n",
       "229227        38       65     0     1          0.0        29.82       11.55   \n",
       "229228        38       65     0     1          0.0        29.82       11.55   \n",
       "229229        38       65     0     1          0.0        29.82       11.55   \n",
       "\n",
       "       resultdir  avgspeed  \n",
       "229225      11.0       0.2  \n",
       "229226      20.5       5.1  \n",
       "229227      20.5       5.1  \n",
       "229228      20.5       5.1  \n",
       "229229      20.5       5.1  \n",
       "\n",
       "[5 rows x 32 columns]"
      ]
     },
     "execution_count": 5,
     "metadata": {},
     "output_type": "execute_result"
    }
   ],
   "source": [
    "total = train_preprocess.merge(weather_refined_drop, on=[\"date\", \"station_nbr\"], how='inner')\n",
    "total.tail()"
   ]
  },
  {
   "cell_type": "markdown",
   "metadata": {},
   "source": [
    "### Month 변수가 units에 유의미한 영향을 미친다\n",
    "    - 예를들어 item 1, 2, 7은 월마다 판매량이 현저하게 차이난다"
   ]
  },
  {
   "cell_type": "code",
   "execution_count": 6,
   "metadata": {},
   "outputs": [],
   "source": [
    "total_copy = total.copy()"
   ]
  },
  {
   "cell_type": "code",
   "execution_count": 7,
   "metadata": {},
   "outputs": [
    {
     "data": {
      "text/plain": [
       "<matplotlib.axes._subplots.AxesSubplot at 0x26970125080>"
      ]
     },
     "execution_count": 7,
     "metadata": {},
     "output_type": "execute_result"
    },
    {
     "data": {
      "image/png": "[encoded data removed]",
      "text/plain": [
       "<matplotlib.figure.Figure at 0x26965b7a828>"
      ]
     },
     "metadata": {},
     "output_type": "display_data"
    }
   ],
   "source": [
    "total_copy_item_1 = total_copy[total_copy[\"item_nbr\"] == 1]\n",
    "plt.figure(figsize=(30,9))\n",
    "sns.boxplot(x=\"month\", y=\"units\", data=total_copy_item_1[[\"month\", \"units\"]])"
   ]
  },
  {
   "cell_type": "code",
   "execution_count": 8,
   "metadata": {
    "scrolled": true
   },
   "outputs": [
    {
     "data": {
      "text/plain": [
       "<matplotlib.axes._subplots.AxesSubplot at 0x26903eebef0>"
      ]
     },
     "execution_count": 8,
     "metadata": {},
     "output_type": "execute_result"
    },
    {
     "data": {
      "image/png": "[encoded data removed]",
      "text/plain": [
       "<matplotlib.figure.Figure at 0x26965b7afd0>"
      ]
     },
     "metadata": {},
     "output_type": "display_data"
    }
   ],
   "source": [
    "total_copy_item_2 = total_copy[total_copy[\"item_nbr\"] == 2]\n",
    "plt.figure(figsize=(30,9))\n",
    "sns.boxplot(x=\"month\", y=\"units\", data=total_copy_item_2[[\"month\", \"units\"]])"
   ]
  },
  {
   "cell_type": "code",
   "execution_count": 9,
   "metadata": {},
   "outputs": [
    {
     "data": {
      "text/plain": [
       "<matplotlib.axes._subplots.AxesSubplot at 0x26904000eb8>"
      ]
     },
     "execution_count": 9,
     "metadata": {},
     "output_type": "execute_result"
    },
    {
     "data": {
      "image/png": "[encoded data removed]",
      "text/plain": [
       "<matplotlib.figure.Figure at 0x26904000a90>"
      ]
     },
     "metadata": {},
     "output_type": "display_data"
    }
   ],
   "source": [
    "total_copy_item_7 = total_copy[total_copy[\"item_nbr\"] == 7]\n",
    "plt.figure(figsize=(30,9))\n",
    "sns.boxplot(x=\"month\", y=\"units\", data=total_copy_item_7[[\"month\", \"units\"]])"
   ]
  },
  {
   "cell_type": "code",
   "execution_count": 10,
   "metadata": {},
   "outputs": [],
   "source": [
    "total_copy_del_outlier = total_copy[total_copy['units']<1000]"
   ]
  },
  {
   "cell_type": "code",
   "execution_count": 11,
   "metadata": {
    "scrolled": true
   },
   "outputs": [
    {
     "data": {
      "text/html": [
       "<div>\n",
       "<style scoped>\n",
       "    .dataframe tbody tr th:only-of-type {\n",
       "        vertical-align: middle;\n",
       "    }\n",
       "\n",
       "    .dataframe tbody tr th {\n",
       "        vertical-align: top;\n",
       "    }\n",
       "\n",
       "    .dataframe thead th {\n",
       "        text-align: right;\n",
       "    }\n",
       "</style>\n",
       "<table border=\"1\" class=\"dataframe\">\n",
       "  <thead>\n",
       "    <tr style=\"text-align: right;\">\n",
       "      <th></th>\n",
       "      <th>date</th>\n",
       "      <th>store_nbr</th>\n",
       "      <th>item_nbr</th>\n",
       "      <th>units</th>\n",
       "      <th>log1p</th>\n",
       "      <th>date2</th>\n",
       "      <th>station_nbr</th>\n",
       "      <th>preciptotal_flag</th>\n",
       "      <th>depart_flag</th>\n",
       "      <th>weekday</th>\n",
       "      <th>...</th>\n",
       "      <th>depart</th>\n",
       "      <th>dewpoint</th>\n",
       "      <th>wetbulb</th>\n",
       "      <th>heat</th>\n",
       "      <th>cool</th>\n",
       "      <th>preciptotal</th>\n",
       "      <th>stnpressure</th>\n",
       "      <th>resultspeed</th>\n",
       "      <th>resultdir</th>\n",
       "      <th>avgspeed</th>\n",
       "    </tr>\n",
       "  </thead>\n",
       "  <tbody>\n",
       "    <tr>\n",
       "      <th>161826</th>\n",
       "      <td>2012-11-15</td>\n",
       "      <td>37</td>\n",
       "      <td>5</td>\n",
       "      <td>5568</td>\n",
       "      <td>8.624971</td>\n",
       "      <td>2012-11-15</td>\n",
       "      <td>13</td>\n",
       "      <td>0.0</td>\n",
       "      <td>0.0</td>\n",
       "      <td>3</td>\n",
       "      <td>...</td>\n",
       "      <td>-7</td>\n",
       "      <td>26</td>\n",
       "      <td>31</td>\n",
       "      <td>31</td>\n",
       "      <td>0</td>\n",
       "      <td>0.00</td>\n",
       "      <td>24.48</td>\n",
       "      <td>2.5</td>\n",
       "      <td>15.0</td>\n",
       "      <td>4.8</td>\n",
       "    </tr>\n",
       "    <tr>\n",
       "      <th>174570</th>\n",
       "      <td>2013-11-21</td>\n",
       "      <td>37</td>\n",
       "      <td>5</td>\n",
       "      <td>3369</td>\n",
       "      <td>8.122668</td>\n",
       "      <td>2013-11-21</td>\n",
       "      <td>13</td>\n",
       "      <td>0.0</td>\n",
       "      <td>0.0</td>\n",
       "      <td>3</td>\n",
       "      <td>...</td>\n",
       "      <td>-22</td>\n",
       "      <td>11</td>\n",
       "      <td>14</td>\n",
       "      <td>46</td>\n",
       "      <td>0</td>\n",
       "      <td>0.08</td>\n",
       "      <td>24.47</td>\n",
       "      <td>7.0</td>\n",
       "      <td>2.0</td>\n",
       "      <td>7.5</td>\n",
       "    </tr>\n",
       "  </tbody>\n",
       "</table>\n",
       "<p>2 rows × 32 columns</p>\n",
       "</div>"
      ],
      "text/plain": [
       "              date  store_nbr  item_nbr  units     log1p      date2  \\\n",
       "161826  2012-11-15         37         5   5568  8.624971 2012-11-15   \n",
       "174570  2013-11-21         37         5   3369  8.122668 2013-11-21   \n",
       "\n",
       "        station_nbr  preciptotal_flag  depart_flag  weekday    ...     depart  \\\n",
       "161826           13               0.0          0.0        3    ...         -7   \n",
       "174570           13               0.0          0.0        3    ...        -22   \n",
       "\n",
       "        dewpoint  wetbulb  heat  cool  preciptotal  stnpressure resultspeed  \\\n",
       "161826        26       31    31     0         0.00        24.48         2.5   \n",
       "174570        11       14    46     0         0.08        24.47         7.0   \n",
       "\n",
       "       resultdir  avgspeed  \n",
       "161826      15.0       4.8  \n",
       "174570       2.0       7.5  \n",
       "\n",
       "[2 rows x 32 columns]"
      ]
     },
     "execution_count": 11,
     "metadata": {},
     "output_type": "execute_result"
    }
   ],
   "source": [
    "total_copy[total_copy['units']>1000]"
   ]
  },
  {
   "cell_type": "code",
   "execution_count": 12,
   "metadata": {},
   "outputs": [],
   "source": [
    "# total_copy_item_5 = total_copy_del_outlier[total_copy_del_outlier[\"item_nbr\"] == 5]\n",
    "# plt.figure(figsize=(25,9))\n",
    "# sns.boxplot(x=\"month\", y=\"units\", data=total_copy_item_5[[\"month\", \"units\"]])"
   ]
  },
  {
   "cell_type": "code",
   "execution_count": 13,
   "metadata": {},
   "outputs": [],
   "source": [
    "# total_copy_item_45 = total_copy_del_outlier[total_copy_del_outlier[\"item_nbr\"] == 45]\n",
    "# plt.figure(figsize=(25,9))\n",
    "# sns.boxplot(x=\"month\", y=\"units\", data=total_copy_item_45[[\"month\", \"units\"]])"
   ]
  },
  {
   "cell_type": "markdown",
   "metadata": {},
   "source": [
    "### Month & Year 변수는 units에 유의미한 영향을 미친다"
   ]
  },
  {
   "cell_type": "code",
   "execution_count": 14,
   "metadata": {},
   "outputs": [],
   "source": [
    "def getYearMonth(a):\n",
    "    a = str(a)[:7]\n",
    "    return a"
   ]
  },
  {
   "cell_type": "code",
   "execution_count": 15,
   "metadata": {},
   "outputs": [],
   "source": [
    "total_copy[\"yearmonth\"] = total_copy[\"date\"].apply(getYearMonth)"
   ]
  },
  {
   "cell_type": "markdown",
   "metadata": {},
   "source": [
    "    - item 4는 month 기준으로는 3~8월에 유의미하게 팔렸지만, month & year 기준으로는 꼭 그렇지만은 않다"
   ]
  },
  {
   "cell_type": "code",
   "execution_count": 23,
   "metadata": {
    "scrolled": true
   },
   "outputs": [
    {
     "data": {
      "text/plain": [
       "<matplotlib.axes._subplots.AxesSubplot at 0x2690e4aad30>"
      ]
     },
     "execution_count": 23,
     "metadata": {},
     "output_type": "execute_result"
    },
    {
     "data": {
      "image/png": "[encoded data removed]",
      "text/plain": [
       "<matplotlib.figure.Figure at 0x2690e4c04a8>"
      ]
     },
     "metadata": {},
     "output_type": "display_data"
    }
   ],
   "source": [
    "total_copy_item_4 = total_copy[total_copy[\"item_nbr\"] == 4]\n",
    "plt.figure(figsize=(30,7))\n",
    "sns.boxplot(x=\"month\", y=\"units\", data=total_copy_item_4[[\"month\", \"units\"]])"
   ]
  },
  {
   "cell_type": "code",
   "execution_count": 24,
   "metadata": {
    "scrolled": true
   },
   "outputs": [
    {
     "data": {
      "text/plain": [
       "<matplotlib.axes._subplots.AxesSubplot at 0x2690e547710>"
      ]
     },
     "execution_count": 24,
     "metadata": {},
     "output_type": "execute_result"
    },
    {
     "data": {
      "image/png": "[encoded data removed]",
      "text/plain": [
       "<matplotlib.figure.Figure at 0x2690e498470>"
      ]
     },
     "metadata": {},
     "output_type": "display_data"
    }
   ],
   "source": [
    "total_copy_item_4 = total_copy[total[\"item_nbr\"] == 4]\n",
    "plt.figure(figsize=(30,7))\n",
    "sns.boxplot(x=\"yearmonth\", y=\"units\", data=total_copy_item_4[[\"yearmonth\", \"units\"]])"
   ]
  },
  {
   "cell_type": "code",
   "execution_count": 25,
   "metadata": {},
   "outputs": [
    {
     "data": {
      "text/plain": [
       "<matplotlib.axes._subplots.AxesSubplot at 0x2690e983278>"
      ]
     },
     "execution_count": 25,
     "metadata": {},
     "output_type": "execute_result"
    },
    {
     "data": {
      "image/png": "[encoded data removed]",
      "text/plain": [
       "<matplotlib.figure.Figure at 0x2690e6071d0>"
      ]
     },
     "metadata": {},
     "output_type": "display_data"
    }
   ],
   "source": [
    "total_copy_item_12 = total_copy[total_copy[\"item_nbr\"] == 12]\n",
    "plt.figure(figsize=(30,7))\n",
    "sns.boxplot(x=\"month\", y=\"units\", data=total_copy_item_12[[\"month\", \"units\"]])"
   ]
  },
  {
   "cell_type": "code",
   "execution_count": 26,
   "metadata": {},
   "outputs": [
    {
     "data": {
      "text/plain": [
       "<matplotlib.axes._subplots.AxesSubplot at 0x269105becc0>"
      ]
     },
     "execution_count": 26,
     "metadata": {},
     "output_type": "execute_result"
    },
    {
     "data": {
      "image/png": "[encoded data removed]",
      "text/plain": [
       "<matplotlib.figure.Figure at 0x269105abdd8>"
      ]
     },
     "metadata": {},
     "output_type": "display_data"
    }
   ],
   "source": [
    "total_copy_item_12 = total_copy[total[\"item_nbr\"] == 12]\n",
    "plt.figure(figsize=(30,7))\n",
    "sns.boxplot(x=\"yearmonth\", y=\"units\", data=total_copy_item_12[[\"yearmonth\", \"units\"]])"
   ]
  },
  {
   "cell_type": "code",
   "execution_count": 27,
   "metadata": {},
   "outputs": [
    {
     "data": {
      "text/plain": [
       "<matplotlib.axes._subplots.AxesSubplot at 0x2691154b908>"
      ]
     },
     "execution_count": 27,
     "metadata": {},
     "output_type": "execute_result"
    },
    {
     "data": {
      "image/png": "[encoded data removed]",
      "text/plain": [
       "<matplotlib.figure.Figure at 0x269115ce278>"
      ]
     },
     "metadata": {},
     "output_type": "display_data"
    }
   ],
   "source": [
    "total_copy_item_25 = total_copy[total_copy[\"item_nbr\"] == 25]\n",
    "plt.figure(figsize=(30,7))\n",
    "sns.boxplot(x=\"month\", y=\"units\", data=total_copy_item_25[[\"month\", \"units\"]])"
   ]
  },
  {
   "cell_type": "code",
   "execution_count": 28,
   "metadata": {},
   "outputs": [
    {
     "data": {
      "text/plain": [
       "<matplotlib.axes._subplots.AxesSubplot at 0x269115b0b70>"
      ]
     },
     "execution_count": 28,
     "metadata": {},
     "output_type": "execute_result"
    },
    {
     "data": {
      "image/png": "[encoded data removed]",
      "text/plain": [
       "<matplotlib.figure.Figure at 0x269115b70f0>"
      ]
     },
     "metadata": {},
     "output_type": "display_data"
    }
   ],
   "source": [
    "total_copy_item_25 = total_copy[total[\"item_nbr\"] == 25]\n",
    "plt.figure(figsize=(30,7))\n",
    "sns.boxplot(x=\"yearmonth\", y=\"units\", data=total_copy_item_25[[\"yearmonth\", \"units\"]])"
   ]
  },
  {
   "cell_type": "code",
   "execution_count": null,
   "metadata": {},
   "outputs": [],
   "source": []
  },
  {
   "cell_type": "code",
   "execution_count": null,
   "metadata": {},
   "outputs": [],
   "source": []
  }
 ],
 "metadata": {
  "kernelspec": {
   "display_name": "Python 3",
   "language": "python",
   "name": "python3"
  },
  "language_info": {
   "codemirror_mode": {
    "name": "ipython",
    "version": 3
   },
   "file_extension": ".py",
   "mimetype": "text/x-python",
   "name": "python",
   "nbconvert_exporter": "python",
   "pygments_lexer": "ipython3",
   "version": "3.6.5"
  }
 },
 "nbformat": 4,
 "nbformat_minor": 2
}
